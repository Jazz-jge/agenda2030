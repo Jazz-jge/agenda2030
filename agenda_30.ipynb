{
 "cells": [
  {
   "cell_type": "code",
   "execution_count": 4,
   "metadata": {},
   "outputs": [],
   "source": [
    "import os\n",
    "import pandas as pd"
   ]
  },
  {
   "cell_type": "code",
   "execution_count": 5,
   "metadata": {},
   "outputs": [],
   "source": [
    "CWD = os.getcwd()\n",
    "DATA_PATH = r'Users\\andre\\OneDrive\\Documentos\\BOOTCAMP\\Capstone Project\\agenda2030\\data'\n",
    "ruta_data = os.path.join(CWD, 'data')\n"
   ]
  },
  {
   "cell_type": "code",
   "execution_count": 6,
   "metadata": {},
   "outputs": [],
   "source": [
    "archivos_excel = [archivo for archivo in os.listdir(ruta_data) if archivo.endswith('.xlsx')]\n",
    "lista_dataframes = []\n",
    "# Iterar sobre cada archivo y cargarlo como DataFrame\n",
    "for archivo in archivos_excel:\n",
    "    nombre_variable = os.path.splitext(archivo)[0]  # Utiliza el nombre del archivo (sin extensión) como nombre de la variable\n",
    "    ruta_completa = os.path.join(ruta_data, archivo)\n",
    "\n",
    "    \n",
    "    # Asigna el DataFrame directamente a una variable con el mismo nombre que el archivo\n",
    "    globals()[nombre_variable] = pd.read_excel(ruta_completa)\n",
    "\n",
    "    # Creamos una lista con todos los dataframes\n",
    "    lista_dataframes.append(globals()[nombre_variable])\n",
    "    \n",
    "    # Añade las columnas año y sexo\n",
    "    año, sexo = nombre_variable.split('_')[1:]\n",
    "    globals()[nombre_variable]['Año'] = año\n",
    "    globals()[nombre_variable]['Sexo'] = sexo\n",
    "\n",
    "#Creamos el dataframe con todos los datos\n",
    "df = pd.concat(lista_dataframes, ignore_index=True)\n"
   ]
  },
  {
   "cell_type": "code",
   "execution_count": 12,
   "metadata": {},
   "outputs": [
    {
     "name": "stdout",
     "output_type": "stream",
     "text": [
      "Collecting pycountry"
     ]
    },
    {
     "name": "stderr",
     "output_type": "stream",
     "text": [
      "\n",
      "[notice] A new release of pip is available: 23.2.1 -> 23.3.1\n",
      "[notice] To update, run: python.exe -m pip install --upgrade pip\n"
     ]
    },
    {
     "name": "stdout",
     "output_type": "stream",
     "text": [
      "\n",
      "  Obtaining dependency information for pycountry from https://files.pythonhosted.org/packages/63/6a/30150d5aaa7c4a979e5360df0f95b595fbf6eb1897c4ddc6426b69cbaf66/pycountry-23.12.7-py3-none-any.whl.metadata\n",
      "  Downloading pycountry-23.12.7-py3-none-any.whl.metadata (9.9 kB)\n",
      "Downloading pycountry-23.12.7-py3-none-any.whl (6.2 MB)\n",
      "   ---------------------------------------- 0.0/6.2 MB ? eta -:--:--\n",
      "   - -------------------------------------- 0.2/6.2 MB 4.1 MB/s eta 0:00:02\n",
      "   --- ------------------------------------ 0.5/6.2 MB 5.4 MB/s eta 0:00:02\n",
      "   ---- ----------------------------------- 0.7/6.2 MB 5.0 MB/s eta 0:00:02\n",
      "   ------- -------------------------------- 1.1/6.2 MB 5.4 MB/s eta 0:00:01\n",
      "   --------- ------------------------------ 1.5/6.2 MB 5.8 MB/s eta 0:00:01\n",
      "   ----------- ---------------------------- 1.8/6.2 MB 6.1 MB/s eta 0:00:01\n",
      "   -------------- ------------------------- 2.2/6.2 MB 6.0 MB/s eta 0:00:01\n",
      "   --------------- ------------------------ 2.5/6.2 MB 6.3 MB/s eta 0:00:01\n",
      "   ------------------ --------------------- 2.9/6.2 MB 6.4 MB/s eta 0:00:01\n",
      "   -------------------- ------------------- 3.2/6.2 MB 6.3 MB/s eta 0:00:01\n",
      "   ----------------------- ---------------- 3.6/6.2 MB 6.5 MB/s eta 0:00:01\n",
      "   ------------------------ --------------- 3.8/6.2 MB 6.4 MB/s eta 0:00:01\n",
      "   -------------------------- ------------- 4.1/6.2 MB 6.6 MB/s eta 0:00:01\n",
      "   --------------------------- ------------ 4.3/6.2 MB 6.4 MB/s eta 0:00:01\n",
      "   ------------------------------ --------- 4.7/6.2 MB 6.5 MB/s eta 0:00:01\n",
      "   -------------------------------- ------- 5.0/6.2 MB 6.5 MB/s eta 0:00:01\n",
      "   --------------------------------- ------ 5.3/6.2 MB 6.5 MB/s eta 0:00:01\n",
      "   ----------------------------------- ---- 5.5/6.2 MB 6.4 MB/s eta 0:00:01\n",
      "   ------------------------------------- -- 5.8/6.2 MB 6.5 MB/s eta 0:00:01\n",
      "   ---------------------------------------  6.2/6.2 MB 6.6 MB/s eta 0:00:01\n",
      "   ---------------------------------------- 6.2/6.2 MB 6.2 MB/s eta 0:00:00\n",
      "Installing collected packages: pycountry\n",
      "Successfully installed pycountry-23.12.7\n"
     ]
    }
   ],
   "source": [
    "!pip install pycountry #instalar pycountry"
   ]
  },
  {
   "cell_type": "code",
   "execution_count": 34,
   "metadata": {},
   "outputs": [],
   "source": [
    "import pycountry \n",
    "def get_country_code(columna): #Creamos una función para conseguir el código de dos letras de cada país\n",
    "    country_info = pycountry.countries.get(name=columna)\n",
    "    if country_info:\n",
    "        return country_info.alpha_2\n",
    "    else:\n",
    "        return 'EU'"
   ]
  },
  {
   "cell_type": "code",
   "execution_count": 35,
   "metadata": {},
   "outputs": [
    {
     "name": "stderr",
     "output_type": "stream",
     "text": [
      "<>:1: SyntaxWarning: invalid escape sequence '\\I'\n",
      "<>:1: SyntaxWarning: invalid escape sequence '\\I'\n",
      "C:\\Users\\nurdi\\AppData\\Local\\Temp\\ipykernel_20524\\2796709633.py:1: SyntaxWarning: invalid escape sequence '\\I'\n",
      "  df['Pais_code'] = df['Geographic region\\Individual indicators used to compute the Gender Equality Index'].apply(get_country_code)\n"
     ]
    }
   ],
   "source": [
    "df['Pais_code'] = df['Geographic region\\Individual indicators used to compute the Gender Equality Index'].apply(get_country_code)\n",
    "#Llamamos a la función pasándole la columna donde está el país"
   ]
  }
 ],
 "metadata": {
  "kernelspec": {
   "display_name": "Python 3",
   "language": "python",
   "name": "python3"
  },
  "language_info": {
   "codemirror_mode": {
    "name": "ipython",
    "version": 3
   },
   "file_extension": ".py",
   "mimetype": "text/x-python",
   "name": "python",
   "nbconvert_exporter": "python",
   "pygments_lexer": "ipython3",
   "version": "3.12.0"
  }
 },
 "nbformat": 4,
 "nbformat_minor": 2
}
