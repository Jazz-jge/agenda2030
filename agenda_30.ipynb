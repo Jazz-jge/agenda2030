{
 "cells": [
  {
   "cell_type": "code",
   "execution_count": 1,
   "metadata": {},
   "outputs": [],
   "source": [
    "import os\n",
    "import pandas as pd"
   ]
  },
  {
   "cell_type": "code",
   "execution_count": 2,
   "metadata": {},
   "outputs": [],
   "source": [
    "CWD = os.getcwd()\n",
    "DATA_PATH = r'Users\\andre\\OneDrive\\Documentos\\BOOTCAMP\\Capstone Project\\agenda2030\\data'\n",
    "ruta_data = os.path.join(CWD, 'data')\n"
   ]
  },
  {
   "cell_type": "code",
   "execution_count": 3,
   "metadata": {},
   "outputs": [],
   "source": [
    "archivos_excel = [archivo for archivo in os.listdir(ruta_data) if archivo.endswith('.xlsx')]\n",
    "lista_dataframes = []\n",
    "# Iterar sobre cada archivo y cargarlo como DataFrame\n",
    "for archivo in archivos_excel:\n",
    "    nombre_variable = os.path.splitext(archivo)[0]  # Utiliza el nombre del archivo (sin extensión) como nombre de la variable\n",
    "    ruta_completa = os.path.join(ruta_data, archivo)\n",
    "\n",
    "    \n",
    "    # Asigna el DataFrame directamente a una variable con el mismo nombre que el archivo\n",
    "    globals()[nombre_variable] = pd.read_excel(ruta_completa)\n",
    "\n",
    "    # Creamos una lista con todos los dataframes\n",
    "    lista_dataframes.append(globals()[nombre_variable])\n",
    "    \n",
    "    # Añade las columnas año y sexo\n",
    "    año, sexo = nombre_variable.split('_')[1:]\n",
    "    globals()[nombre_variable]['Año'] = año\n",
    "    globals()[nombre_variable]['Sexo'] = sexo\n",
    "\n",
    "#Creamos el dataframe con todos los datos\n",
    "df = pd.concat(lista_dataframes, ignore_index=True)\n"
   ]
  }
 ],
 "metadata": {
  "kernelspec": {
   "display_name": "Python 3",
   "language": "python",
   "name": "python3"
  },
  "language_info": {
   "codemirror_mode": {
    "name": "ipython",
    "version": 3
   },
   "file_extension": ".py",
   "mimetype": "text/x-python",
   "name": "python",
   "nbconvert_exporter": "python",
   "pygments_lexer": "ipython3",
   "version": "3.12.0"
  }
 },
 "nbformat": 4,
 "nbformat_minor": 2
}
