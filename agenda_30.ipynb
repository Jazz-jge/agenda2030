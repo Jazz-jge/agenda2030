{
 "cells": [
  {
   "cell_type": "code",
   "execution_count": null,
   "metadata": {},
   "outputs": [],
   "source": [
    "# Instalar pycountry la primera vez. Tened en cuenta pip3. Desanotar.\n",
    "# !pip install pycountry"
   ]
  },
  {
   "cell_type": "code",
   "execution_count": 1,
   "metadata": {},
   "outputs": [],
   "source": [
    "import os\n",
    "import pandas as pd\n",
    "import pycountry"
   ]
  },
  {
   "cell_type": "code",
   "execution_count": 2,
   "metadata": {},
   "outputs": [],
   "source": [
    "CWD = os.getcwd()\n",
    "DATA_PATH = r'Users\\andre\\OneDrive\\Documentos\\BOOTCAMP\\Capstone Project\\agenda2030\\data'\n",
    "ruta_data = os.path.join(CWD, 'data')\n"
   ]
  },
  {
   "cell_type": "code",
   "execution_count": 4,
   "metadata": {},
   "outputs": [],
   "source": [
    "archivos_excel = [archivo for archivo in os.listdir(ruta_data) if archivo.endswith('.xlsx')]\n",
    "lista_dataframes = []\n",
    "# Iterar sobre cada archivo y cargarlo como DataFrame\n",
    "for archivo in archivos_excel:\n",
    "    nombre_variable = os.path.splitext(archivo)[0]  # Utiliza el nombre del archivo (sin extensión) como nombre de la variable\n",
    "    ruta_completa = os.path.join(ruta_data, archivo)\n",
    "\n",
    "    \n",
    "    # Asigna el DataFrame directamente a una variable con el mismo nombre que el archivo\n",
    "    globals()[nombre_variable] = pd.read_excel(ruta_completa)\n",
    "\n",
    "    # Creamos una lista con todos los dataframes\n",
    "    lista_dataframes.append(globals()[nombre_variable])\n",
    "    \n",
    "    # Añade las columnas año y sexo\n",
    "    año, sexo = nombre_variable.split('_')[1:]\n",
    "    globals()[nombre_variable]['Año'] = año\n",
    "    globals()[nombre_variable]['Sexo'] = sexo\n",
    "\n",
    "#Creamos el dataframe con todos los datos\n",
    "df = pd.concat(lista_dataframes, ignore_index=True)\n"
   ]
  },
  {
   "cell_type": "code",
   "execution_count": 10,
   "metadata": {},
   "outputs": [],
   "source": [
    "import pycountry \n",
    "def get_country_code(columna): #Creamos una función para conseguir el código de dos letras de cada país\n",
    "    country_info = pycountry.countries.get(name=columna)\n",
    "    if country_info:\n",
    "        return country_info.alpha_2\n",
    "    else:\n",
    "        return 'EU'"
   ]
  },
  {
   "cell_type": "code",
   "execution_count": 13,
   "metadata": {},
   "outputs": [
    {
     "name": "stderr",
     "output_type": "stream",
     "text": [
      "<>:1: SyntaxWarning: invalid escape sequence '\\I'\n",
      "<>:1: SyntaxWarning: invalid escape sequence '\\I'\n",
      "C:\\Users\\andre\\AppData\\Local\\Temp\\ipykernel_20248\\2796709633.py:1: SyntaxWarning: invalid escape sequence '\\I'\n",
      "  df['Pais_code'] = df['Geographic region\\Individual indicators used to compute the Gender Equality Index'].apply(get_country_code)\n"
     ]
    }
   ],
   "source": [
    "df['Pais_code'] = df['Geographic region\\Individual indicators used to compute the Gender Equality Index'].apply(get_country_code)\n",
    "#Llamamos a la función pasándole la columna donde está el país"
   ]
  },
  {
   "cell_type": "code",
   "execution_count": 14,
   "metadata": {},
   "outputs": [
    {
     "data": {
      "text/plain": [
       "Pais_code\n",
       "AT    14\n",
       "BE    14\n",
       "SI    14\n",
       "SE    14\n",
       "RO    14\n",
       "PT    14\n",
       "PL    14\n",
       "NL    14\n",
       "MT    14\n",
       "LV    14\n",
       "LU    14\n",
       "LT    14\n",
       "IT    14\n",
       "IE    14\n",
       "HU    14\n",
       "HR    14\n",
       "FR    14\n",
       "FI    14\n",
       "EU    14\n",
       "ES    14\n",
       "GR    14\n",
       "EE    14\n",
       "DK    14\n",
       "DE    14\n",
       "CZ    14\n",
       "CY    14\n",
       "BG    14\n",
       "SK    14\n",
       "Name: count, dtype: int64"
      ]
     },
     "execution_count": 14,
     "metadata": {},
     "output_type": "execute_result"
    }
   ],
   "source": [
    "df['Pais_code'].value_counts()"
   ]
  }
 ],
 "metadata": {
  "kernelspec": {
   "display_name": "Python 3",
   "language": "python",
   "name": "python3"
  },
  "language_info": {
   "codemirror_mode": {
    "name": "ipython",
    "version": 3
   },
   "file_extension": ".py",
   "mimetype": "text/x-python",
   "name": "python",
   "nbconvert_exporter": "python",
   "pygments_lexer": "ipython3",
   "version": "3.12.0"
  }
 },
 "nbformat": 4,
 "nbformat_minor": 2
}
